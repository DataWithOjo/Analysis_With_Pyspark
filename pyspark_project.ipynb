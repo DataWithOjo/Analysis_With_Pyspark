{
 "cells": [
  {
   "cell_type": "code",
   "execution_count": 1,
   "id": "80a4bdf1-a9b8-48bc-8470-13fba4431e8a",
   "metadata": {},
   "outputs": [
    {
     "data": {
      "text/html": [
       "\n",
       "            <div>\n",
       "                <p><b>SparkSession - in-memory</b></p>\n",
       "                \n",
       "        <div>\n",
       "            <p><b>SparkContext</b></p>\n",
       "\n",
       "            <p><a href=\"http://b6c0a6f62fa8:4040\">Spark UI</a></p>\n",
       "\n",
       "            <dl>\n",
       "              <dt>Version</dt>\n",
       "                <dd><code>v3.3.0</code></dd>\n",
       "              <dt>Master</dt>\n",
       "                <dd><code>local[*]</code></dd>\n",
       "              <dt>AppName</dt>\n",
       "                <dd><code>Pyspark Project</code></dd>\n",
       "            </dl>\n",
       "        </div>\n",
       "        \n",
       "            </div>\n",
       "        "
      ],
      "text/plain": [
       "<pyspark.sql.session.SparkSession at 0x7ef15c43ca90>"
      ]
     },
     "execution_count": 1,
     "metadata": {},
     "output_type": "execute_result"
    }
   ],
   "source": [
    "# Create Spark Session\n",
    "\n",
    "from pyspark.sql import SparkSession\n",
    "\n",
    "spark = SparkSession \\\n",
    "    .builder \\\n",
    "    .appName(\"Pyspark Project\") \\\n",
    "    .master(\"local[*]\") \\\n",
    "    .getOrCreate()\n",
    "\n",
    "spark"
   ]
  },
  {
   "cell_type": "code",
   "execution_count": 2,
   "id": "6e449234-ee95-4bf7-8cf8-2c3603cb9fff",
   "metadata": {},
   "outputs": [],
   "source": [
    "from pyspark.sql.functions import *\n",
    "from pyspark.sql.types import *\n",
    "from pyspark.sql.window import Window"
   ]
  },
  {
   "cell_type": "markdown",
   "id": "dc2f5d91-1ce7-444f-87e6-9e6fcc8f00f7",
   "metadata": {},
   "source": [
    "### LOAD ALL THE DATA"
   ]
  },
  {
   "cell_type": "code",
   "execution_count": 11,
   "id": "ab627511-b16a-406f-a7f4-3da42285ba4a",
   "metadata": {},
   "outputs": [],
   "source": [
    "# Read the products csv file into dataframe\n",
    "\n",
    "products = spark.read.format(\"csv\").option(\"header\", True).option(\"inferSchema\", True).load(\"data/tables/products.csv\")"
   ]
  },
  {
   "cell_type": "code",
   "execution_count": 12,
   "id": "912cfd4f-cb2c-464f-80df-5f06dc8df9ab",
   "metadata": {},
   "outputs": [
    {
     "name": "stdout",
     "output_type": "stream",
     "text": [
      "+---------+-------------------------------+----------+----------+--------------------+---------+------------+------------+------------+------------+\n",
      "|ProductID|ProductName                    |SupplierID|CategoryID|QuantityPerUnit     |UnitPrice|UnitsInStock|UnitsOnOrder|ReorderLevel|Discontinued|\n",
      "+---------+-------------------------------+----------+----------+--------------------+---------+------------+------------+------------+------------+\n",
      "|1        |Chai                           |1         |1         |10 boxes x 20 bags  |18.0     |39          |0           |10          |false       |\n",
      "|2        |Chang                          |1         |1         |24 - 12 oz bottles  |19.0     |17          |40          |25          |false       |\n",
      "|3        |Aniseed Syrup                  |1         |2         |12 - 550 ml bottles |10.0     |13          |70          |25          |false       |\n",
      "|4        |Chef Anton's Cajun Seasoning   |2         |2         |48 - 6 oz jars      |22.0     |53          |0           |0           |false       |\n",
      "|5        |Chef Anton's Gumbo Mix         |2         |2         |36 boxes            |21.35    |0           |0           |0           |true        |\n",
      "|6        |Grandma's Boysenberry Spread   |3         |2         |12 - 8 oz jars      |25.0     |120         |0           |25          |false       |\n",
      "|7        |Uncle Bob's Organic Dried Pears|3         |7         |12 - 1 lb pkgs.     |30.0     |15          |0           |10          |false       |\n",
      "|8        |Northwoods Cranberry Sauce     |3         |2         |12 - 12 oz jars     |40.0     |6           |0           |0           |false       |\n",
      "|9        |Mishi Kobe Niku                |4         |6         |18 - 500 g pkgs.    |97.0     |29          |0           |0           |true        |\n",
      "|10       |Ikura                          |4         |8         |12 - 200 ml jars    |31.0     |31          |0           |0           |false       |\n",
      "|11       |Queso Cabrales                 |5         |4         |1 kg pkg.           |21.0     |22          |30          |30          |false       |\n",
      "|12       |Queso Manchego La Pastora      |5         |4         |10 - 500 g pkgs.    |38.0     |86          |0           |0           |false       |\n",
      "|13       |Konbu                          |6         |8         |2 kg box            |6.0      |24          |0           |5           |false       |\n",
      "|14       |Tofu                           |6         |7         |40 - 100 g pkgs.    |23.25    |35          |0           |0           |false       |\n",
      "|15       |Genen Shouyu                   |6         |2         |24 - 250 ml bottles |15.5     |39          |0           |5           |false       |\n",
      "|16       |Pavlova                        |7         |3         |32 - 500 g boxes    |17.45    |29          |0           |10          |false       |\n",
      "|17       |Alice Mutton                   |7         |6         |20 - 1 kg tins      |39.0     |0           |0           |0           |true        |\n",
      "|18       |Carnarvon Tigers               |7         |8         |16 kg pkg.          |62.5     |42          |0           |0           |false       |\n",
      "|19       |Teatime Chocolate Biscuits     |8         |3         |10 boxes x 12 pieces|9.2      |25          |0           |5           |false       |\n",
      "|20       |Sir Rodney's Marmalade         |8         |3         |30 gift boxes       |81.0     |40          |0           |0           |false       |\n",
      "+---------+-------------------------------+----------+----------+--------------------+---------+------------+------------+------------+------------+\n",
      "only showing top 20 rows\n",
      "\n"
     ]
    }
   ],
   "source": [
    "# display products dataframe\n",
    "products.show(truncate=False)"
   ]
  },
  {
   "cell_type": "code",
   "execution_count": 13,
   "id": "e15915f4-14f2-40ae-9e02-50ace0812bf6",
   "metadata": {},
   "outputs": [],
   "source": [
    "# Read the orders csv file into dataframe\n",
    "\n",
    "orders = spark.read.format(\"csv\").option(\"header\", True).option(\"inferSchema\", True).load(\"data/tables/orders.csv\")"
   ]
  },
  {
   "cell_type": "code",
   "execution_count": 21,
   "id": "1bd4e525-ebeb-4382-b0de-c155989de90d",
   "metadata": {},
   "outputs": [
    {
     "name": "stdout",
     "output_type": "stream",
     "text": [
      "+-------+----------+----------+------------+-----------+-------+-------+--------------------+----------------+--------------+----------+--------------+-----------+----------+---------+---------+--------+--------+-------+\n",
      "|OrderID|CustomerID|EmployeeID|RequiredDate|ShippedDate|ShipVia|Freight|            ShipName|     ShipAddress|      ShipCity|ShipRegion|ShipPostalCode|ShipCountry| OrderDate|ProductID|UnitPrice|Quantity|Discount| _Sales|\n",
      "+-------+----------+----------+------------+-----------+-------+-------+--------------------+----------------+--------------+----------+--------------+-----------+----------+---------+---------+--------+--------+-------+\n",
      "|  11070|     LEHMS|         2|  17-10-2024|       null|      1|  136.0| Lehmanns Marktstand|    Magazinweg 7|Frankfurt a.M.|      null|         60528|    Germany|19-09-2024|       31|     12.5|      20|     0.0|  250.0|\n",
      "|  11067|     DRACD|         1|  02-10-2024| 20-09-2024|      2|   7.98|Drachenblut Delik...|    Walserweg 21|        Aachen|      null|         52066|    Germany|18-09-2024|       41|     9.65|       9|     0.0|  86.85|\n",
      "|  11058|     BLAUS|         9|  11-10-2024|       null|      3|  31.14|Blauer See Delika...|  Forsterstr. 57|      Mannheim|      null|         68306|    Germany|13-09-2024|       61|     28.5|       4|     0.0|  114.0|\n",
      "|  11058|     BLAUS|         9|  11-10-2024|       null|      3|  31.14|Blauer See Delika...|  Forsterstr. 57|      Mannheim|      null|         68306|    Germany|13-09-2024|       60|     34.0|      21|     0.0|  714.0|\n",
      "|  11058|     BLAUS|         9|  11-10-2024|       null|      3|  31.14|Blauer See Delika...|  Forsterstr. 57|      Mannheim|      null|         68306|    Germany|13-09-2024|       21|     10.0|       3|     0.0|   30.0|\n",
      "|  11036|     DRACD|         8|  02-10-2024| 06-09-2024|      3| 149.47|Drachenblut Delik...|    Walserweg 21|        Aachen|      null|         52066|    Germany|04-09-2024|       13|      6.0|       7|     0.0|   42.0|\n",
      "|  11036|     DRACD|         8|  02-10-2024| 06-09-2024|      3| 149.47|Drachenblut Delik...|    Walserweg 21|        Aachen|      null|         52066|    Germany|04-09-2024|       59|     55.0|      30|     0.0| 1650.0|\n",
      "|  11028|     KOENE|         2|  28-09-2024| 06-09-2024|      1|  29.59|     Königlich Essen|   Maubelstr. 90|   Brandenburg|      null|         14776|    Germany|31-08-2024|       59|     55.0|      24|     0.0| 1320.0|\n",
      "|  11028|     KOENE|         2|  28-09-2024| 06-09-2024|      1|  29.59|     Königlich Essen|   Maubelstr. 90|   Brandenburg|      null|         14776|    Germany|31-08-2024|       55|     24.0|      35|     0.0|  840.0|\n",
      "|  11021|     QUICK|         3|  26-09-2024| 05-09-2024|      1| 297.18|          QUICK-Stop|Taucherstraße 10|     Cunewalde|      null|         01307|    Germany|29-08-2024|       20|     81.0|      15|     0.0| 1215.0|\n",
      "|  11021|     QUICK|         3|  26-09-2024| 05-09-2024|      1| 297.18|          QUICK-Stop|Taucherstraße 10|     Cunewalde|      null|         01307|    Germany|29-08-2024|       26|    31.23|      63|     0.0|1967.49|\n",
      "|  11021|     QUICK|         3|  26-09-2024| 05-09-2024|      1| 297.18|          QUICK-Stop|Taucherstraße 10|     Cunewalde|      null|         01307|    Germany|29-08-2024|       72|     34.8|      35|     0.0| 1218.0|\n",
      "|  11011|     ALFKI|         3|  21-09-2024| 28-08-2024|      1|   1.21|Alfred's Futterkiste|   Obere Str. 57|        Berlin|      null|         12209|    Germany|24-08-2024|       71|     21.5|      20|     0.0|  430.0|\n",
      "|  10996|     QUICK|         4|  14-09-2024| 25-08-2024|      2|   1.12|          QUICK-Stop|Taucherstraße 10|     Cunewalde|      null|         01307|    Germany|17-08-2024|       42|     14.0|      40|     0.0|  560.0|\n",
      "|  10967|     TOMSP|         2|  04-09-2024| 17-08-2024|      2|  62.22|  Toms Spezialitäten|   Luisenstr. 48|       Münster|      null|         44087|    Germany|07-08-2024|       19|      9.2|      12|     0.0|  110.4|\n",
      "|  10967|     TOMSP|         2|  04-09-2024| 17-08-2024|      2|  62.22|  Toms Spezialitäten|   Luisenstr. 48|       Münster|      null|         44087|    Germany|07-08-2024|       49|     20.0|      40|     0.0|  800.0|\n",
      "|  10962|     QUICK|         8|  31-08-2024| 07-08-2024|      2| 275.79|          QUICK-Stop|Taucherstraße 10|     Cunewalde|      null|         01307|    Germany|03-08-2024|       76|     18.0|      44|     0.0|  792.0|\n",
      "|  10962|     QUICK|         8|  31-08-2024| 07-08-2024|      2| 275.79|          QUICK-Stop|Taucherstraße 10|     Cunewalde|      null|         01307|    Germany|03-08-2024|       69|     36.0|       9|     0.0|  324.0|\n",
      "|  10962|     QUICK|         8|  31-08-2024| 07-08-2024|      2| 275.79|          QUICK-Stop|Taucherstraße 10|     Cunewalde|      null|         01307|    Germany|03-08-2024|       53|     32.8|      20|     0.0|  656.0|\n",
      "|  10962|     QUICK|         8|  31-08-2024| 07-08-2024|      2| 275.79|          QUICK-Stop|Taucherstraße 10|     Cunewalde|      null|         01307|    Germany|03-08-2024|       13|      6.0|      77|     0.0|  462.0|\n",
      "+-------+----------+----------+------------+-----------+-------+-------+--------------------+----------------+--------------+----------+--------------+-----------+----------+---------+---------+--------+--------+-------+\n",
      "only showing top 20 rows\n",
      "\n"
     ]
    }
   ],
   "source": [
    "# display orders dataframe\n",
    "orders.show()"
   ]
  },
  {
   "cell_type": "code",
   "execution_count": 15,
   "id": "7588f576-a71a-4924-8b01-05893905a926",
   "metadata": {},
   "outputs": [],
   "source": [
    "# Read the customers csv file into dataframe\n",
    "\n",
    "customers = spark.read.format(\"csv\").option(\"header\", True).option(\"inferSchema\", True).load(\"data/tables/customers.csv\")"
   ]
  },
  {
   "cell_type": "code",
   "execution_count": 20,
   "id": "0a880814-b87e-48de-8911-269b2ee21a02",
   "metadata": {},
   "outputs": [
    {
     "name": "stdout",
     "output_type": "stream",
     "text": [
      "+----------+--------------------+------------------+--------------------+--------------------+------------+------+----------+-----------+--------------+--------------+\n",
      "|CustomerID|         CompanyName|       ContactName|        ContactTitle|             Address|        City|Region|PostalCode|    Country|         Phone|           Fax|\n",
      "+----------+--------------------+------------------+--------------------+--------------------+------------+------+----------+-----------+--------------+--------------+\n",
      "|     ALFKI| Alfreds Futterkiste|      Maria Anders|Sales Representative|       Obere Str. 57|      Berlin|  null|     12209|    Germany|   030-0074321|   030-0076545|\n",
      "|     ANATR|Ana Trujillo Empa...|      Ana Trujillo|               Owner|Avda. de la Const...| México D.F.|  null|     05021|     Mexico|  (5) 555-4729|  (5) 555-3745|\n",
      "|     ANTON|Antonio Moreno Ta...|    Antonio Moreno|               Owner|     Mataderos  2312| México D.F.|  null|     05023|     Mexico|  (5) 555-3932|          null|\n",
      "|     AROUT|     Around the Horn|      Thomas Hardy|Sales Representative|     120 Hanover Sq.|      London|  null|   WA1 1DP|         UK|(171) 555-7788|(171) 555-6750|\n",
      "|     BERGS|  Berglunds snabbköp|Christina Berglund| Order Administrator|     Berguvsvägen  8|       Luleå|  null|  S-958 22|     Sweden| 0921-12 34 65| 0921-12 34 67|\n",
      "|     BLAUS|Blauer See Delika...|        Hanna Moos|Sales Representative|      Forsterstr. 57|    Mannheim|  null|     68306|    Germany|    0621-08460|    0621-08924|\n",
      "|     BLONP|Blondesddsl père ...|Frédérique Citeaux|   Marketing Manager|    24, place Kléber|  Strasbourg|  null|     67000|     France|   88.60.15.31|   88.60.15.32|\n",
      "|     BOLID|Bólido Comidas pr...|     Martín Sommer|               Owner|      C/ Araquil, 67|      Madrid|  null|     28023|      Spain|(91) 555 22 82|(91) 555 91 99|\n",
      "|     BONAP|            Bon app'|  Laurence Lebihan|               Owner|12, rue des Bouchers|   Marseille|  null|     13008|     France|   91.24.45.40|   91.24.45.41|\n",
      "|     BOTTM|Bottom-Dollar Mar...| Elizabeth Lincoln|  Accounting Manager|  23 Tsawassen Blvd.|   Tsawassen|    BC|   T2F 8M4|     Canada|(604) 555-4729|(604) 555-3745|\n",
      "|     BSBEV|       B's Beverages| Victoria Ashworth|Sales Representative|   Fauntleroy Circus|      London|  null|   EC2 5NT|         UK|(171) 555-1212|          null|\n",
      "|     CACTU|Cactus Comidas pa...|  Patricio Simpson|         Sales Agent|         Cerrito 333|Buenos Aires|  null|      1010|  Argentina|  (1) 135-5555|  (1) 135-4892|\n",
      "|     CENTC|Centro comercial ...|   Francisco Chang|   Marketing Manager|Sierras de Granad...| México D.F.|  null|     05022|     Mexico|  (5) 555-3392|  (5) 555-7293|\n",
      "|     CHOPS|   Chop-suey Chinese|         Yang Wang|               Owner|        Hauptstr. 29|        Bern|  null|      3012|Switzerland|   0452-076545|          null|\n",
      "|     COMMI|    Comércio Mineiro|      Pedro Afonso|     Sales Associate|Av. dos Lusíadas, 23|   Sao Paulo|    SP| 05432-043|     Brazil| (11) 555-7647|          null|\n",
      "|     CONSH|Consolidated Hold...|   Elizabeth Brown|Sales Representative|Berkeley Gardens ...|      London|  null|   WX1 6LT|         UK|(171) 555-2282|(171) 555-9199|\n",
      "|     DRACD|Drachenblut Delik...|      Sven Ottlieb| Order Administrator|        Walserweg 21|      Aachen|  null|     52066|    Germany|   0241-039123|   0241-059428|\n",
      "|     DUMON|     Du monde entier|    Janine Labrune|               Owner|67, rue des Cinqu...|      Nantes|  null|     44000|     France|   40.67.88.88|   40.67.89.89|\n",
      "|     EASTC|  Eastern Connection|         Ann Devon|         Sales Agent|      35 King George|      London|  null|   WX3 6FW|         UK|(171) 555-0297|(171) 555-3373|\n",
      "|     ERNSH|        Ernst Handel|     Roland Mendel|       Sales Manager|        Kirchgasse 6|        Graz|  null|      8010|    Austria|     7675-3425|     7675-3426|\n",
      "+----------+--------------------+------------------+--------------------+--------------------+------------+------+----------+-----------+--------------+--------------+\n",
      "only showing top 20 rows\n",
      "\n"
     ]
    }
   ],
   "source": [
    "customers.show()"
   ]
  },
  {
   "cell_type": "code",
   "execution_count": 17,
   "id": "06d2ffa6-6481-4ab4-bd37-1b315dae5f95",
   "metadata": {},
   "outputs": [],
   "source": [
    "# Read the employees csv file into dataframe\n",
    "\n",
    "employees = spark.read.format(\"csv\").option(\"header\", True).option(\"inferSchema\", True).load(\"data/tables/employees.csv\")"
   ]
  },
  {
   "cell_type": "code",
   "execution_count": 19,
   "id": "daf5398e-91b9-47c3-b04f-1b062e1ba468",
   "metadata": {},
   "outputs": [
    {
     "name": "stdout",
     "output_type": "stream",
     "text": [
      "+---------------+---------+---------+--------------------+---------------+--------------+----------+--------------------+--------------------+--------------------+--------------------+--------------------+--------------+---------+--------------------+---------+--------------------+----------------+------+\n",
      "|     EmployeeID| LastName|FirstName|               Title|TitleOfCourtesy|     BirthDate|  HireDate|             Address|                City|              Region|          PostalCode|             Country|     HomePhone|Extension|               Notes|ReportsTo|           PhotoPath|       Full Name|Gender|\n",
      "+---------------+---------+---------+--------------------+---------------+--------------+----------+--------------------+--------------------+--------------------+--------------------+--------------------+--------------+---------+--------------------+---------+--------------------+----------------+------+\n",
      "|              1|  Davolio|    Nancy|Sales Representative|            Ms.|    08-12-1948|01-05-1992|  507 - 20th Ave. E.|                null|                null|                null|                null|          null|     null|                null|     null|                null|            null|  null|\n",
      "|       Apt. 2A\"|  Seattle|       WA|               98122|            USA|(206) 555-9857|      5467|\"Education includ...|                   2|http://accweb/emm...|       Nancy Davolio|              Female|          null|     null|                null|     null|                null|            null|  null|\n",
      "|              2|   Fuller|   Andrew|Vice President, S...|            Dr.|    19-02-1952|14-08-1992|  908 W. Capital Way|              Tacoma|                  WA|               98401|                 USA|(206) 555-9482|     3457|Andrew received h...|     null|http://accweb/emm...|   Andrew Fuller|  Male|\n",
      "|              3|Leverling|    Janet|Sales Representative|            Ms.|    30-08-1963|01-04-1992|  722 Moss Bay Blvd.|            Kirkland|                  WA|               98033|                 USA|(206) 555-3412|     3355|Janet has a BS de...|        2|http://accweb/emm...| Janet Leverling|Female|\n",
      "|              4|  Peacock| Margaret|Sales Representative|           Mrs.|    19-09-1937|03-05-1993|4110 Old Redmond Rd.|             Redmond|                  WA|               98052|                 USA|(206) 555-8122|     5176|Margaret holds a ...|        2|http://accweb/emm...|Margaret Peacock|Female|\n",
      "|              5| Buchanan|   Steven|       Sales Manager|            Mr.|    04-03-1955|17-10-1993|     14 Garrett Hill|              London|                null|             SW1 8JR|                  UK| (71) 555-4848|     3453|\"Steven Buchanan ...|        2|http://accweb/emm...| Steven Buchanan|  Male|\n",
      "|              6|   Suyama|  Michael|Sales Representative|            Mr.|    02-07-1963|17-10-1993|      Coventry House|                null|                null|                null|                null|          null|     null|                null|     null|                null|            null|  null|\n",
      "|     Miner Rd.\"|   London|     null|             EC2 7JR|             UK| (71) 555-7773|       428|\"Michael is a gra...|          Portuguese|       and Spanish.\"|                   5|http://accweb/emm...|Michael Suyama|     Male|                null|     null|                null|            null|  null|\n",
      "|              7|     King|   Robert|Sales Representative|            Mr.|    29-05-1960|02-01-1994|      Edgeham Hollow|                null|                null|                null|                null|          null|     null|                null|     null|                null|            null|  null|\n",
      "|Winchester Way\"|   London|     null|             RG1 9SP|             UK| (71) 555-5598|       465|\"Robert King serv...|\"\" he was transfe...|                   5|http://accweb/emm...|         Robert King|          Male|     null|                null|     null|                null|            null|  null|\n",
      "|              8| Callahan|    Laura|Inside Sales Coor...|            Ms.|    09-01-1958|05-03-1994|4726 - 11th Ave. ...|             Seattle|                  WA|               98105|                 USA|(206) 555-1189|     2344|Laura received a ...|        2|http://accweb/emm...|  Laura Callahan|Female|\n",
      "|              9|Dodsworth|     Anne|Sales Representative|            Ms.|    27-01-1966|15-11-1994|   7 Houndstooth Rd.|              London|                null|             WG2 7LT|                  UK| (71) 555-4444|      452|Anne has a BA deg...|        5|http://accweb/emm...|  Anne Dodsworth|Female|\n",
      "+---------------+---------+---------+--------------------+---------------+--------------+----------+--------------------+--------------------+--------------------+--------------------+--------------------+--------------+---------+--------------------+---------+--------------------+----------------+------+\n",
      "\n"
     ]
    }
   ],
   "source": [
    "employees.show()"
   ]
  },
  {
   "cell_type": "code",
   "execution_count": 22,
   "id": "18faacca-379c-488e-9900-b08533949e1f",
   "metadata": {},
   "outputs": [],
   "source": [
    "# Read the suppliers csv file into dataframe\n",
    "\n",
    "suppliers = spark.read.format(\"csv\").option(\"header\", True).option(\"inferSchema\", True).load(\"data/tables/suppliers.csv\")"
   ]
  },
  {
   "cell_type": "code",
   "execution_count": 24,
   "id": "d95d90fd-7dda-4661-94c9-31c09295054f",
   "metadata": {},
   "outputs": [
    {
     "name": "stdout",
     "output_type": "stream",
     "text": [
      "+----------+--------------------+--------------------+--------------------+--------------------+-----------+--------+----------+---------+---------------+---------------+--------------------+\n",
      "|SupplierID|         CompanyName|         ContactName|        ContactTitle|             Address|       City|  Region|PostalCode|  Country|          Phone|            Fax|            HomePage|\n",
      "+----------+--------------------+--------------------+--------------------+--------------------+-----------+--------+----------+---------+---------------+---------------+--------------------+\n",
      "|         1|      Exotic Liquids|    Charlotte Cooper|  Purchasing Manager|      49 Gilbert St.|     London|    null|   EC1 4SD|       UK| (171) 555-2222|           null|                null|\n",
      "|         2|New Orleans Cajun...|       Shelley Burke| Order Administrator|      P.O. Box 78934|New Orleans|      LA|     70117|      USA| (100) 555-4822|           null|         #CAJUN.HTM#|\n",
      "|         3|Grandma Kelly's H...|       Regina Murphy|Sales Representative|      707 Oxford Rd.|  Ann Arbor|      MI|     48104|      USA| (313) 555-5735| (313) 555-3349|                null|\n",
      "|         4|       Tokyo Traders|        Yoshi Nagase|   Marketing Manager|9-8 Sekimai Musas...|      Tokyo|    null|       100|    Japan| (03) 3555-5011|           null|                null|\n",
      "|         5|Cooperativa de Qu...|Antonio del Valle...|Export Administrator|   Calle del Rosal 4|     Oviedo|Asturias|     33007|    Spain| (98) 598 76 54|           null|                null|\n",
      "|         6|            Mayumi's|         Mayumi Ohno|Marketing Represe...|  92 Setsuko Chuo-ku|      Osaka|    null|       545|    Japan|  (06) 431-7877|           null|Mayumi's (on the ...|\n",
      "|         7|       Pavlova, Ltd.|         Ian Devling|   Marketing Manager|74 Rose St. Mooni...|  Melbourne|Victoria|      3058|Australia|  (03) 444-2343|  (03) 444-6588|                null|\n",
      "|         8|Specialty Biscuit...|        Peter Wilson|Sales Representative|       29 King's Way| Manchester|    null|   M14 GSD|       UK| (161) 555-4448|           null|                null|\n",
      "|         9|    PB Knäckebröd AB|       Lars Peterson|         Sales Agent|     Kaloadagatan 13|   Göteborg|    null|  S-345 67|   Sweden|  031-987 65 43|  031-987 65 91|                null|\n",
      "|        10|Refrescos America...|         Carlos Diaz|   Marketing Manager|Av. das Americana...|  Sao Paulo|    null|      5442|   Brazil|  (11) 555 4640|           null|                null|\n",
      "|        11|Heli Süßwaren Gmb...|       Petra Winkler|       Sales Manager|  Tiergartenstraße 5|     Berlin|    null|     10785|  Germany|  (010) 9984510|           null|                null|\n",
      "|        12|Plutzer Lebensmit...|         Martin Bein|International Mar...|       Bogenallee 51|  Frankfurt|    null|     60439|  Germany|   (069) 992755|           null|Plutzer (on the W...|\n",
      "|        13|Nord-Ost-Fisch Ha...|       Sven Petersen|Coordinator Forei...|    Frahmredder 112a|   Cuxhaven|    null|     27478|  Germany|   (04721) 8713|   (04721) 8714|                null|\n",
      "|        14|Formaggi Fortini ...|          Elio Rossi|Sales Representative|     Viale Dante, 75|    Ravenna|    null|     48100|    Italy|   (0544) 60323|   (0544) 60603|      #FORMAGGI.HTM#|\n",
      "|        15|     Norske Meierier|        Beate Vileid|   Marketing Manager|        Hatlevegen 5|   Sandvika|    null|      1320|   Norway|    (0)2-953010|           null|                null|\n",
      "|        16|   Bigfoot Breweries|       Cheryl Saylor|Regional Account ...|3400 - 8th Avenue...|       Bend|      OR|     97101|      USA| (503) 555-9931|           null|                null|\n",
      "|        17|   Svensk Sjöföda AB|       Michael Björn|Sales Representative|   Brovallavägen 231|  Stockholm|    null|  S-123 45|   Sweden|   08-123 45 67|           null|                null|\n",
      "|        18|Aux joyeux ecclés...|      Guylène Nodier|       Sales Manager|203, Rue des Fran...|      Paris|    null|     75004|   France|(1) 03.83.00.68|(1) 03.83.00.62|                null|\n",
      "|        19|New England Seafo...|       Robb Merchant|Wholesale Account...|Order Processing ...|     Boston|      MA|     02134|      USA| (617) 555-3267| (617) 555-3389|                null|\n",
      "|        20|        Leka Trading|        Chandra Leka|               Owner|471 Serangoon Loo...|  Singapore|    null|      0512|Singapore|       555-8787|           null|                null|\n",
      "+----------+--------------------+--------------------+--------------------+--------------------+-----------+--------+----------+---------+---------------+---------------+--------------------+\n",
      "only showing top 20 rows\n",
      "\n"
     ]
    }
   ],
   "source": [
    "suppliers.show()"
   ]
  },
  {
   "cell_type": "markdown",
   "id": "f74906a6-8832-4c1d-827a-9be91e05f84f",
   "metadata": {},
   "source": [
    "# *Questions*"
   ]
  },
  {
   "cell_type": "markdown",
   "id": "819d18c4-b828-4d10-81df-cec6b7f38fdf",
   "metadata": {},
   "source": [
    "### 1. How many current products cost less than $20?"
   ]
  },
  {
   "cell_type": "code",
   "execution_count": 30,
   "id": "01d09637-8757-4195-88f0-ad0d80c3b733",
   "metadata": {},
   "outputs": [
    {
     "name": "stdout",
     "output_type": "stream",
     "text": [
      "+---------+--------------------+----------+----------+--------------------+---------+------------+------------+------------+------------+\n",
      "|ProductID|         ProductName|SupplierID|CategoryID|     QuantityPerUnit|UnitPrice|UnitsInStock|UnitsOnOrder|ReorderLevel|Discontinued|\n",
      "+---------+--------------------+----------+----------+--------------------+---------+------------+------------+------------+------------+\n",
      "|        1|                Chai|         1|         1|  10 boxes x 20 bags|     18.0|          39|           0|          10|       false|\n",
      "|        2|               Chang|         1|         1|  24 - 12 oz bottles|     19.0|          17|          40|          25|       false|\n",
      "|        3|       Aniseed Syrup|         1|         2| 12 - 550 ml bottles|     10.0|          13|          70|          25|       false|\n",
      "|       13|               Konbu|         6|         8|            2 kg box|      6.0|          24|           0|           5|       false|\n",
      "|       15|        Genen Shouyu|         6|         2| 24 - 250 ml bottles|     15.5|          39|           0|           5|       false|\n",
      "|       16|             Pavlova|         7|         3|    32 - 500 g boxes|    17.45|          29|           0|          10|       false|\n",
      "|       19|Teatime Chocolate...|         8|         3|10 boxes x 12 pieces|      9.2|          25|           0|           5|       false|\n",
      "|       21| Sir Rodney's Scones|         8|         3| 24 pkgs. x 4 pieces|     10.0|           3|          40|           5|       false|\n",
      "|       23|            Tunnbröd|         9|         5|    12 - 250 g pkgs.|      9.0|          61|           0|          25|       false|\n",
      "|       25|NuNuCa Nuß-Nougat...|        11|         3|  20 - 450 g glasses|     14.0|          76|           0|          30|       false|\n",
      "|       31|   Gorgonzola Telino|        14|         4|     12 - 100 g pkgs|     12.5|           0|          70|          20|       false|\n",
      "|       33|             Geitost|        15|         4|               500 g|      2.5|         112|           0|          20|       false|\n",
      "|       34|       Sasquatch Ale|        16|         1|  24 - 12 oz bottles|     14.0|         111|           0|          15|       false|\n",
      "|       35|      Steeleye Stout|        16|         1|  24 - 12 oz bottles|     18.0|          20|           0|          15|       false|\n",
      "|       36|         Inlagd Sill|        17|         8|    24 - 250 g  jars|     19.0|         112|           0|          20|       false|\n",
      "|       39|    Chartreuse verte|        18|         1|   750 cc per bottle|     18.0|          69|           0|           5|       false|\n",
      "|       40|    Boston Crab Meat|        19|         8|      24 - 4 oz tins|     18.4|         123|           0|          30|       false|\n",
      "|       41|Jack's New Englan...|        19|         8|     12 - 12 oz cans|     9.65|          85|           0|          10|       false|\n",
      "|       44|        Gula Malacca|        20|         2|      20 - 2 kg bags|    19.45|          27|           0|          15|       false|\n",
      "|       45|         Rogede sild|        21|         8|             1k pkg.|      9.5|           5|          70|          15|       false|\n",
      "+---------+--------------------+----------+----------+--------------------+---------+------------+------------+------------+------------+\n",
      "only showing top 20 rows\n",
      "\n"
     ]
    }
   ],
   "source": [
    "from pyspark.sql.functions import col\n",
    "\n",
    "products.where((col(\"UnitPrice\") < 20) & (col(\"Discontinued\") == \"false\")).show()"
   ]
  },
  {
   "cell_type": "code",
   "execution_count": 31,
   "id": "fc7a387b-02d1-4c59-8dc3-0da872ae40b1",
   "metadata": {},
   "outputs": [
    {
     "data": {
      "text/plain": [
       "37"
      ]
     },
     "execution_count": 31,
     "metadata": {},
     "output_type": "execute_result"
    }
   ],
   "source": [
    "products.where(\"UnitPrice < 20 AND Discontinued = 'false'\").count()"
   ]
  },
  {
   "cell_type": "markdown",
   "id": "f1dcc64e-c34e-47ed-93fd-60b78ab9b0d7",
   "metadata": {},
   "source": [
    "### 2. Which product is most expensive?"
   ]
  },
  {
   "cell_type": "code",
   "execution_count": 36,
   "id": "73f11d58-2701-4667-bd57-1fa4897c07de",
   "metadata": {},
   "outputs": [
    {
     "name": "stdout",
     "output_type": "stream",
     "text": [
      "+---------+-------------+----------+----------+------------------+---------+------------+------------+------------+------------+\n",
      "|ProductID|  ProductName|SupplierID|CategoryID|   QuantityPerUnit|UnitPrice|UnitsInStock|UnitsOnOrder|ReorderLevel|Discontinued|\n",
      "+---------+-------------+----------+----------+------------------+---------+------------+------------+------------+------------+\n",
      "|       38|Côte de Blaye|        18|         1|12 - 75 cl bottles|    263.5|          17|           0|          15|       false|\n",
      "+---------+-------------+----------+----------+------------------+---------+------------+------------+------------+------------+\n",
      "only showing top 1 row\n",
      "\n"
     ]
    }
   ],
   "source": [
    "products.sort(desc(\"UnitPrice\")).show(1)"
   ]
  },
  {
   "cell_type": "markdown",
   "id": "65bfcb05-90d0-4294-b3c5-3b2a87ec7acb",
   "metadata": {},
   "source": [
    "### 3. What is the average unit price for our products?"
   ]
  },
  {
   "cell_type": "code",
   "execution_count": 40,
   "id": "34f45b28-85a1-4aea-b1ee-b23c81b787c4",
   "metadata": {},
   "outputs": [
    {
     "name": "stdout",
     "output_type": "stream",
     "text": [
      "+------------+\n",
      "|AvgUnitPrice|\n",
      "+------------+\n",
      "|       28.87|\n",
      "+------------+\n",
      "\n"
     ]
    }
   ],
   "source": [
    "products.agg(round(avg(\"UnitPrice\"), 2).alias(\"AvgUnitPrice\")).show()"
   ]
  },
  {
   "cell_type": "markdown",
   "id": "ab190ad4-e67f-4389-a216-39cf636d79f5",
   "metadata": {},
   "source": [
    "### 4. How many products are above the average unit price?"
   ]
  },
  {
   "cell_type": "code",
   "execution_count": 43,
   "id": "d9889de6-22af-4838-affa-8a8171520d57",
   "metadata": {},
   "outputs": [
    {
     "name": "stdout",
     "output_type": "stream",
     "text": [
      "+---------+--------------------+----------+----------+--------------------+---------+------------+------------+------------+------------+\n",
      "|ProductID|         ProductName|SupplierID|CategoryID|     QuantityPerUnit|UnitPrice|UnitsInStock|UnitsOnOrder|ReorderLevel|Discontinued|\n",
      "+---------+--------------------+----------+----------+--------------------+---------+------------+------------+------------+------------+\n",
      "|        7|Uncle Bob's Organ...|         3|         7|     12 - 1 lb pkgs.|     30.0|          15|           0|          10|       false|\n",
      "|        8|Northwoods Cranbe...|         3|         2|     12 - 12 oz jars|     40.0|           6|           0|           0|       false|\n",
      "|        9|     Mishi Kobe Niku|         4|         6|    18 - 500 g pkgs.|     97.0|          29|           0|           0|        true|\n",
      "|       10|               Ikura|         4|         8|    12 - 200 ml jars|     31.0|          31|           0|           0|       false|\n",
      "|       12|Queso Manchego La...|         5|         4|    10 - 500 g pkgs.|     38.0|          86|           0|           0|       false|\n",
      "|       17|        Alice Mutton|         7|         6|      20 - 1 kg tins|     39.0|           0|           0|           0|        true|\n",
      "|       18|    Carnarvon Tigers|         7|         8|          16 kg pkg.|     62.5|          42|           0|           0|       false|\n",
      "|       20|Sir Rodney's Marm...|         8|         3|       30 gift boxes|     81.0|          40|           0|           0|       false|\n",
      "|       26| Gumbär Gummibärchen|        11|         3|    100 - 250 g bags|    31.23|          15|           0|           0|       false|\n",
      "|       27|  Schoggi Schokolade|        11|         3|  100 - 100 g pieces|     43.9|          49|           0|          30|       false|\n",
      "|       28|   Rössle Sauerkraut|        12|         7|     25 - 825 g cans|     45.6|          26|           0|           0|        true|\n",
      "|       29|Thüringer Rostbra...|        12|         6|50 bags x 30 sausgs.|   123.79|           0|           0|           0|        true|\n",
      "|       32|  Mascarpone Fabioli|        14|         4|    24 - 200 g pkgs.|     32.0|           9|          40|          25|       false|\n",
      "|       38|       Côte de Blaye|        18|         1|  12 - 75 cl bottles|    263.5|          17|           0|          15|       false|\n",
      "|       43|         Ipoh Coffee|        20|         1|     16 - 500 g tins|     46.0|          17|          10|          25|       false|\n",
      "|       51|Manjimup Dried Ap...|        24|         7|    50 - 300 g pkgs.|     53.0|          20|           0|          10|       false|\n",
      "|       53|       Perth Pasties|        24|         6|           48 pieces|     32.8|           0|           0|           0|        true|\n",
      "|       56|Gnocchi di nonna ...|        26|         5|    24 - 250 g pkgs.|     38.0|          21|          10|          30|       false|\n",
      "|       59|Raclette Courdavault|        28|         4|           5 kg pkg.|     55.0|          79|           0|           0|       false|\n",
      "|       60|   Camembert Pierrot|        28|         4|   15 - 300 g rounds|     34.0|          19|           0|           0|       false|\n",
      "+---------+--------------------+----------+----------+--------------------+---------+------------+------------+------------+------------+\n",
      "only showing top 20 rows\n",
      "\n"
     ]
    }
   ],
   "source": [
    " # get the average unit price\n",
    "avg_unit_price = products.agg(round(avg(\"UnitPrice\"), 2).alias(\"AvgUnitPrice\")).collect()[0][\"AvgUnitPrice\"]\n",
    "\n",
    "# products above the average unit price\n",
    "products.where(f\"UnitPrice > {avg_unit_price}\").show()"
   ]
  },
  {
   "cell_type": "code",
   "execution_count": 44,
   "id": "3dff1bd4-c011-419a-ad25-5879d1cb6be9",
   "metadata": {},
   "outputs": [
    {
     "data": {
      "text/plain": [
       "25"
      ]
     },
     "execution_count": 44,
     "metadata": {},
     "output_type": "execute_result"
    }
   ],
   "source": [
    "products.where(f\"UnitPrice > {avg_unit_price}\").count()"
   ]
  },
  {
   "cell_type": "markdown",
   "id": "ec2d9e15-fe90-4d79-b083-749e9f58655d",
   "metadata": {},
   "source": [
    "### 5. How many products costs between $15 & $25 (inclusive)?"
   ]
  },
  {
   "cell_type": "code",
   "execution_count": 45,
   "id": "fb6d26b0-3503-4092-8682-5e95626bf0f0",
   "metadata": {},
   "outputs": [
    {
     "name": "stdout",
     "output_type": "stream",
     "text": [
      "+---------+--------------------+----------+----------+-------------------+---------+------------+------------+------------+------------+\n",
      "|ProductID|         ProductName|SupplierID|CategoryID|    QuantityPerUnit|UnitPrice|UnitsInStock|UnitsOnOrder|ReorderLevel|Discontinued|\n",
      "+---------+--------------------+----------+----------+-------------------+---------+------------+------------+------------+------------+\n",
      "|        1|                Chai|         1|         1| 10 boxes x 20 bags|     18.0|          39|           0|          10|       false|\n",
      "|        2|               Chang|         1|         1| 24 - 12 oz bottles|     19.0|          17|          40|          25|       false|\n",
      "|        4|Chef Anton's Caju...|         2|         2|     48 - 6 oz jars|     22.0|          53|           0|           0|       false|\n",
      "|        5|Chef Anton's Gumb...|         2|         2|           36 boxes|    21.35|           0|           0|           0|        true|\n",
      "|        6|Grandma's Boysenb...|         3|         2|     12 - 8 oz jars|     25.0|         120|           0|          25|       false|\n",
      "|       11|      Queso Cabrales|         5|         4|          1 kg pkg.|     21.0|          22|          30|          30|       false|\n",
      "|       14|                Tofu|         6|         7|   40 - 100 g pkgs.|    23.25|          35|           0|           0|       false|\n",
      "|       15|        Genen Shouyu|         6|         2|24 - 250 ml bottles|     15.5|          39|           0|           5|       false|\n",
      "|       16|             Pavlova|         7|         3|   32 - 500 g boxes|    17.45|          29|           0|          10|       false|\n",
      "|       22| Gustaf's Knäckebröd|         9|         5|   24 - 500 g pkgs.|     21.0|         104|           0|          25|       false|\n",
      "|       35|      Steeleye Stout|        16|         1| 24 - 12 oz bottles|     18.0|          20|           0|          15|       false|\n",
      "|       36|         Inlagd Sill|        17|         8|   24 - 250 g  jars|     19.0|         112|           0|          20|       false|\n",
      "|       39|    Chartreuse verte|        18|         1|  750 cc per bottle|     18.0|          69|           0|           5|       false|\n",
      "|       40|    Boston Crab Meat|        19|         8|     24 - 4 oz tins|     18.4|         123|           0|          30|       false|\n",
      "|       44|        Gula Malacca|        20|         2|     20 - 2 kg bags|    19.45|          27|           0|          15|       false|\n",
      "|       49|            Maxilaku|        23|         3|    24 - 50 g pkgs.|     20.0|          10|          60|          15|       false|\n",
      "|       50|    Valkoinen suklaa|        23|         3|    12 - 100 g bars|    16.25|          65|           0|          30|       false|\n",
      "|       55|        Pâté chinois|        25|         6|  24 boxes x 2 pies|     24.0|         115|           0|          20|       false|\n",
      "|       57|      Ravioli Angelo|        26|         5|   24 - 250 g pkgs.|     19.5|          36|           0|          20|       false|\n",
      "|       65|Louisiana Fiery H...|         2|         2|  32 - 8 oz bottles|    21.05|          76|           0|           0|       false|\n",
      "+---------+--------------------+----------+----------+-------------------+---------+------------+------------+------------+------------+\n",
      "only showing top 20 rows\n",
      "\n"
     ]
    }
   ],
   "source": [
    "products.where(\"UnitPrice >= 15 AND UnitPrice <= 25\").show()"
   ]
  },
  {
   "cell_type": "code",
   "execution_count": 46,
   "id": "fce3eb38-2dc7-447e-aaa6-1038407a6cde",
   "metadata": {},
   "outputs": [
    {
     "data": {
      "text/plain": [
       "25"
      ]
     },
     "execution_count": 46,
     "metadata": {},
     "output_type": "execute_result"
    }
   ],
   "source": [
    "products.where(\"UnitPrice >= 15 AND UnitPrice <= 25\").count()"
   ]
  },
  {
   "cell_type": "markdown",
   "id": "81d50ef6-e22f-4895-b70e-8bb5b044ec16",
   "metadata": {},
   "source": [
    "### 6. What is the average number of products (not quantity) per order?"
   ]
  },
  {
   "cell_type": "code",
   "execution_count": 47,
   "id": "a4c9b76f-b0ec-42b7-bdc3-56903e9b4093",
   "metadata": {},
   "outputs": [
    {
     "name": "stdout",
     "output_type": "stream",
     "text": [
      "+-------+----------+----------+------------+-----------+-------+-------+--------------------+----------------+--------------+----------+--------------+-----------+----------+---------+---------+--------+--------+-------+\n",
      "|OrderID|CustomerID|EmployeeID|RequiredDate|ShippedDate|ShipVia|Freight|            ShipName|     ShipAddress|      ShipCity|ShipRegion|ShipPostalCode|ShipCountry| OrderDate|ProductID|UnitPrice|Quantity|Discount| _Sales|\n",
      "+-------+----------+----------+------------+-----------+-------+-------+--------------------+----------------+--------------+----------+--------------+-----------+----------+---------+---------+--------+--------+-------+\n",
      "|  11070|     LEHMS|         2|  17-10-2024|       null|      1|  136.0| Lehmanns Marktstand|    Magazinweg 7|Frankfurt a.M.|      null|         60528|    Germany|19-09-2024|       31|     12.5|      20|     0.0|  250.0|\n",
      "|  11067|     DRACD|         1|  02-10-2024| 20-09-2024|      2|   7.98|Drachenblut Delik...|    Walserweg 21|        Aachen|      null|         52066|    Germany|18-09-2024|       41|     9.65|       9|     0.0|  86.85|\n",
      "|  11058|     BLAUS|         9|  11-10-2024|       null|      3|  31.14|Blauer See Delika...|  Forsterstr. 57|      Mannheim|      null|         68306|    Germany|13-09-2024|       61|     28.5|       4|     0.0|  114.0|\n",
      "|  11058|     BLAUS|         9|  11-10-2024|       null|      3|  31.14|Blauer See Delika...|  Forsterstr. 57|      Mannheim|      null|         68306|    Germany|13-09-2024|       60|     34.0|      21|     0.0|  714.0|\n",
      "|  11058|     BLAUS|         9|  11-10-2024|       null|      3|  31.14|Blauer See Delika...|  Forsterstr. 57|      Mannheim|      null|         68306|    Germany|13-09-2024|       21|     10.0|       3|     0.0|   30.0|\n",
      "|  11036|     DRACD|         8|  02-10-2024| 06-09-2024|      3| 149.47|Drachenblut Delik...|    Walserweg 21|        Aachen|      null|         52066|    Germany|04-09-2024|       13|      6.0|       7|     0.0|   42.0|\n",
      "|  11036|     DRACD|         8|  02-10-2024| 06-09-2024|      3| 149.47|Drachenblut Delik...|    Walserweg 21|        Aachen|      null|         52066|    Germany|04-09-2024|       59|     55.0|      30|     0.0| 1650.0|\n",
      "|  11028|     KOENE|         2|  28-09-2024| 06-09-2024|      1|  29.59|     Königlich Essen|   Maubelstr. 90|   Brandenburg|      null|         14776|    Germany|31-08-2024|       59|     55.0|      24|     0.0| 1320.0|\n",
      "|  11028|     KOENE|         2|  28-09-2024| 06-09-2024|      1|  29.59|     Königlich Essen|   Maubelstr. 90|   Brandenburg|      null|         14776|    Germany|31-08-2024|       55|     24.0|      35|     0.0|  840.0|\n",
      "|  11021|     QUICK|         3|  26-09-2024| 05-09-2024|      1| 297.18|          QUICK-Stop|Taucherstraße 10|     Cunewalde|      null|         01307|    Germany|29-08-2024|       20|     81.0|      15|     0.0| 1215.0|\n",
      "|  11021|     QUICK|         3|  26-09-2024| 05-09-2024|      1| 297.18|          QUICK-Stop|Taucherstraße 10|     Cunewalde|      null|         01307|    Germany|29-08-2024|       26|    31.23|      63|     0.0|1967.49|\n",
      "|  11021|     QUICK|         3|  26-09-2024| 05-09-2024|      1| 297.18|          QUICK-Stop|Taucherstraße 10|     Cunewalde|      null|         01307|    Germany|29-08-2024|       72|     34.8|      35|     0.0| 1218.0|\n",
      "|  11011|     ALFKI|         3|  21-09-2024| 28-08-2024|      1|   1.21|Alfred's Futterkiste|   Obere Str. 57|        Berlin|      null|         12209|    Germany|24-08-2024|       71|     21.5|      20|     0.0|  430.0|\n",
      "|  10996|     QUICK|         4|  14-09-2024| 25-08-2024|      2|   1.12|          QUICK-Stop|Taucherstraße 10|     Cunewalde|      null|         01307|    Germany|17-08-2024|       42|     14.0|      40|     0.0|  560.0|\n",
      "|  10967|     TOMSP|         2|  04-09-2024| 17-08-2024|      2|  62.22|  Toms Spezialitäten|   Luisenstr. 48|       Münster|      null|         44087|    Germany|07-08-2024|       19|      9.2|      12|     0.0|  110.4|\n",
      "|  10967|     TOMSP|         2|  04-09-2024| 17-08-2024|      2|  62.22|  Toms Spezialitäten|   Luisenstr. 48|       Münster|      null|         44087|    Germany|07-08-2024|       49|     20.0|      40|     0.0|  800.0|\n",
      "|  10962|     QUICK|         8|  31-08-2024| 07-08-2024|      2| 275.79|          QUICK-Stop|Taucherstraße 10|     Cunewalde|      null|         01307|    Germany|03-08-2024|       76|     18.0|      44|     0.0|  792.0|\n",
      "|  10962|     QUICK|         8|  31-08-2024| 07-08-2024|      2| 275.79|          QUICK-Stop|Taucherstraße 10|     Cunewalde|      null|         01307|    Germany|03-08-2024|       69|     36.0|       9|     0.0|  324.0|\n",
      "|  10962|     QUICK|         8|  31-08-2024| 07-08-2024|      2| 275.79|          QUICK-Stop|Taucherstraße 10|     Cunewalde|      null|         01307|    Germany|03-08-2024|       53|     32.8|      20|     0.0|  656.0|\n",
      "|  10962|     QUICK|         8|  31-08-2024| 07-08-2024|      2| 275.79|          QUICK-Stop|Taucherstraße 10|     Cunewalde|      null|         01307|    Germany|03-08-2024|       13|      6.0|      77|     0.0|  462.0|\n",
      "+-------+----------+----------+------------+-----------+-------+-------+--------------------+----------------+--------------+----------+--------------+-----------+----------+---------+---------+--------+--------+-------+\n",
      "only showing top 20 rows\n",
      "\n"
     ]
    }
   ],
   "source": [
    "orders.show()"
   ]
  },
  {
   "cell_type": "code",
   "execution_count": 57,
   "id": "f5aab591-fad5-45e5-9f9f-59916a9981c0",
   "metadata": {},
   "outputs": [
    {
     "name": "stdout",
     "output_type": "stream",
     "text": [
      "+---------------+\n",
      "|AvgProductCount|\n",
      "+---------------+\n",
      "|            3.0|\n",
      "+---------------+\n",
      "\n"
     ]
    }
   ],
   "source": [
    "# how many products were bougth per order\n",
    "# what is the average number of products per order\n",
    "\n",
    "product_count = orders.groupBy(\"OrderID\").agg(count(\"ProductID\").alias(\"ProductCount\"))\n",
    "product_count.agg(round(avg(\"ProductCount\"), 0).alias(\"AvgProductCount\")).show()"
   ]
  },
  {
   "cell_type": "markdown",
   "id": "3bf39e01-44b8-4eaf-bc0c-b3d67c8a49ed",
   "metadata": {},
   "source": [
    "### 7. What is order value in $ of open orders? ( Not shipped yet)"
   ]
  },
  {
   "cell_type": "code",
   "execution_count": 59,
   "id": "9528507b-143a-4f1a-a4ae-56ea1be3cdc8",
   "metadata": {},
   "outputs": [
    {
     "name": "stdout",
     "output_type": "stream",
     "text": [
      "+-------+----------+----------+------------+-----------+-------+-------+--------------------+--------------+--------------+----------+--------------+-----------+----------+---------+---------+--------+--------+------+\n",
      "|OrderID|CustomerID|EmployeeID|RequiredDate|ShippedDate|ShipVia|Freight|            ShipName|   ShipAddress|      ShipCity|ShipRegion|ShipPostalCode|ShipCountry| OrderDate|ProductID|UnitPrice|Quantity|Discount|_Sales|\n",
      "+-------+----------+----------+------------+-----------+-------+-------+--------------------+--------------+--------------+----------+--------------+-----------+----------+---------+---------+--------+--------+------+\n",
      "|  11070|     LEHMS|         2|  17-10-2024|       null|      1|  136.0| Lehmanns Marktstand|  Magazinweg 7|Frankfurt a.M.|      null|         60528|    Germany|19-09-2024|       31|     12.5|      20|     0.0| 250.0|\n",
      "|  11067|     DRACD|         1|  02-10-2024| 20-09-2024|      2|   7.98|Drachenblut Delik...|  Walserweg 21|        Aachen|      null|         52066|    Germany|18-09-2024|       41|     9.65|       9|     0.0| 86.85|\n",
      "|  11058|     BLAUS|         9|  11-10-2024|       null|      3|  31.14|Blauer See Delika...|Forsterstr. 57|      Mannheim|      null|         68306|    Germany|13-09-2024|       61|     28.5|       4|     0.0| 114.0|\n",
      "|  11058|     BLAUS|         9|  11-10-2024|       null|      3|  31.14|Blauer See Delika...|Forsterstr. 57|      Mannheim|      null|         68306|    Germany|13-09-2024|       60|     34.0|      21|     0.0| 714.0|\n",
      "|  11058|     BLAUS|         9|  11-10-2024|       null|      3|  31.14|Blauer See Delika...|Forsterstr. 57|      Mannheim|      null|         68306|    Germany|13-09-2024|       21|     10.0|       3|     0.0|  30.0|\n",
      "+-------+----------+----------+------------+-----------+-------+-------+--------------------+--------------+--------------+----------+--------------+-----------+----------+---------+---------+--------+--------+------+\n",
      "only showing top 5 rows\n",
      "\n"
     ]
    }
   ],
   "source": [
    "orders.show(5)"
   ]
  },
  {
   "cell_type": "code",
   "execution_count": 65,
   "id": "1453709c-e8cc-48b2-a077-d771d8193e05",
   "metadata": {},
   "outputs": [
    {
     "name": "stdout",
     "output_type": "stream",
     "text": [
      "+----------+\n",
      "|OrderValue|\n",
      "+----------+\n",
      "|   27444.0|\n",
      "+----------+\n",
      "\n"
     ]
    }
   ],
   "source": [
    "# filter for orders not shipped yet\n",
    "# calculate the order value of those orders\n",
    "\n",
    "orders_not_shipped = orders.filter(col(\"ShippedDate\").isNull())\n",
    "\n",
    "orders_not_shipped.agg(round(sum(col(\"_Sales\")), 0).alias(\"OrderValue\")).show()"
   ]
  },
  {
   "cell_type": "markdown",
   "id": "8def332b-0740-4cc0-9fd8-9208115244bb",
   "metadata": {},
   "source": [
    "### 8. How many orders are 'single item' (only one product ordered)?"
   ]
  },
  {
   "cell_type": "code",
   "execution_count": 66,
   "id": "7dc24695-d41d-41f7-896d-cdf68b915a2e",
   "metadata": {},
   "outputs": [
    {
     "name": "stdout",
     "output_type": "stream",
     "text": [
      "+-------+------------+\n",
      "|OrderID|ProductCount|\n",
      "+-------+------------+\n",
      "|  10817|           4|\n",
      "|  10623|           5|\n",
      "|  10362|           3|\n",
      "|  11033|           2|\n",
      "|  10703|           3|\n",
      "|  10462|           2|\n",
      "|  10914|           1|\n",
      "|  10862|           2|\n",
      "|  11025|           2|\n",
      "|  10798|           2|\n",
      "|  10708|           2|\n",
      "|  10745|           4|\n",
      "|  10468|           2|\n",
      "|  10768|           4|\n",
      "|  10788|           2|\n",
      "|  10632|           2|\n",
      "|  10527|           2|\n",
      "|  10840|           2|\n",
      "|  10567|           3|\n",
      "|  10395|           3|\n",
      "+-------+------------+\n",
      "only showing top 20 rows\n",
      "\n"
     ]
    }
   ],
   "source": [
    "product_count.show()"
   ]
  },
  {
   "cell_type": "code",
   "execution_count": 67,
   "id": "7cfb8c4d-cf84-47ee-a14a-9c7fd9b0dd2c",
   "metadata": {},
   "outputs": [
    {
     "name": "stdout",
     "output_type": "stream",
     "text": [
      "+-------+------------+\n",
      "|OrderID|ProductCount|\n",
      "+-------+------------+\n",
      "|  10914|           1|\n",
      "|  10815|           1|\n",
      "|  11014|           1|\n",
      "|  10947|           1|\n",
      "|  10898|           1|\n",
      "|  11057|           1|\n",
      "|  10371|           1|\n",
      "|  10422|           1|\n",
      "|  10994|           1|\n",
      "|  10295|           1|\n",
      "|  10732|           1|\n",
      "|  10881|           1|\n",
      "|  10950|           1|\n",
      "|  10433|           1|\n",
      "|  10683|           1|\n",
      "|  10336|           1|\n",
      "|  10589|           1|\n",
      "|  10586|           1|\n",
      "|  10376|           1|\n",
      "|  11050|           1|\n",
      "+-------+------------+\n",
      "only showing top 20 rows\n",
      "\n"
     ]
    }
   ],
   "source": [
    "product_count.where(\"ProductCount = 1\").show()"
   ]
  },
  {
   "cell_type": "code",
   "execution_count": 68,
   "id": "0c24f5a6-4b44-4bcf-9052-45da03191285",
   "metadata": {},
   "outputs": [
    {
     "data": {
      "text/plain": [
       "137"
      ]
     },
     "execution_count": 68,
     "metadata": {},
     "output_type": "execute_result"
    }
   ],
   "source": [
    "product_count.where(\"ProductCount = 1\").count()"
   ]
  },
  {
   "cell_type": "markdown",
   "id": "5974830e-f435-4f5d-a317-de5a28c2bf81",
   "metadata": {},
   "source": [
    "### 9. Average Sales per Transaction (orderID) for \"Romero y Tomillo\""
   ]
  },
  {
   "cell_type": "code",
   "execution_count": 69,
   "id": "50c24770-65d8-4c40-a2d3-9387c863a348",
   "metadata": {},
   "outputs": [
    {
     "name": "stdout",
     "output_type": "stream",
     "text": [
      "+-------+----------+----------+------------+-----------+-------+-------+--------------------+--------------+--------------+----------+--------------+-----------+----------+---------+---------+--------+--------+------+\n",
      "|OrderID|CustomerID|EmployeeID|RequiredDate|ShippedDate|ShipVia|Freight|            ShipName|   ShipAddress|      ShipCity|ShipRegion|ShipPostalCode|ShipCountry| OrderDate|ProductID|UnitPrice|Quantity|Discount|_Sales|\n",
      "+-------+----------+----------+------------+-----------+-------+-------+--------------------+--------------+--------------+----------+--------------+-----------+----------+---------+---------+--------+--------+------+\n",
      "|  11070|     LEHMS|         2|  17-10-2024|       null|      1|  136.0| Lehmanns Marktstand|  Magazinweg 7|Frankfurt a.M.|      null|         60528|    Germany|19-09-2024|       31|     12.5|      20|     0.0| 250.0|\n",
      "|  11067|     DRACD|         1|  02-10-2024| 20-09-2024|      2|   7.98|Drachenblut Delik...|  Walserweg 21|        Aachen|      null|         52066|    Germany|18-09-2024|       41|     9.65|       9|     0.0| 86.85|\n",
      "|  11058|     BLAUS|         9|  11-10-2024|       null|      3|  31.14|Blauer See Delika...|Forsterstr. 57|      Mannheim|      null|         68306|    Germany|13-09-2024|       61|     28.5|       4|     0.0| 114.0|\n",
      "|  11058|     BLAUS|         9|  11-10-2024|       null|      3|  31.14|Blauer See Delika...|Forsterstr. 57|      Mannheim|      null|         68306|    Germany|13-09-2024|       60|     34.0|      21|     0.0| 714.0|\n",
      "|  11058|     BLAUS|         9|  11-10-2024|       null|      3|  31.14|Blauer See Delika...|Forsterstr. 57|      Mannheim|      null|         68306|    Germany|13-09-2024|       21|     10.0|       3|     0.0|  30.0|\n",
      "+-------+----------+----------+------------+-----------+-------+-------+--------------------+--------------+--------------+----------+--------------+-----------+----------+---------+---------+--------+--------+------+\n",
      "only showing top 5 rows\n",
      "\n"
     ]
    }
   ],
   "source": [
    "orders.show(5)"
   ]
  },
  {
   "cell_type": "code",
   "execution_count": 86,
   "id": "986cde2d-7b97-4233-99ec-469cdd94d179",
   "metadata": {},
   "outputs": [
    {
     "name": "stdout",
     "output_type": "stream",
     "text": [
      "+-------------+\n",
      "|AvgOrderValue|\n",
      "+-------------+\n",
      "|        293.6|\n",
      "+-------------+\n",
      "\n"
     ]
    }
   ],
   "source": [
    "# filter out the ship name \n",
    "romero = orders.filter(col(\"ShipName\").like(\"Romero%\"))\n",
    "\n",
    "# groupby on orderid and find the sales amount per order (_sale)\n",
    "order_value = romero.groupBy(\"OrderID\").agg(round(sum(\"_Sales\"),0).alias(\"OrderValue\"))\n",
    "\n",
    "# average order value\n",
    "order_value.agg(avg(\"OrderValue\").alias(\"AvgOrderValue\")).show()"
   ]
  },
  {
   "cell_type": "markdown",
   "id": "2203bc8f-99d9-4525-a36f-01b9ce852e63",
   "metadata": {},
   "source": [
    "### 10. How many days since \"North/South\" last purchase?"
   ]
  },
  {
   "cell_type": "code",
   "execution_count": 92,
   "id": "88295ac8-7133-4631-9548-4249dac0aa4d",
   "metadata": {},
   "outputs": [
    {
     "name": "stdout",
     "output_type": "stream",
     "text": [
      "+----------+-----------+--------------+---------------+--------------------+------+------+----------+-------+--------------+--------------+\n",
      "|CustomerID|CompanyName|   ContactName|   ContactTitle|             Address|  City|Region|PostalCode|Country|         Phone|           Fax|\n",
      "+----------+-----------+--------------+---------------+--------------------+------+------+----------+-------+--------------+--------------+\n",
      "|     NORTS|North/South|Simon Crowther|Sales Associate|South House 300 Q...|London|  null|   SW7 1RZ|     UK|(171) 555-7733|(171) 555-2530|\n",
      "+----------+-----------+--------------+---------------+--------------------+------+------+----------+-------+--------------+--------------+\n",
      "\n"
     ]
    }
   ],
   "source": [
    "customers.filter(col(\"CompanyName\") == 'North/South').show()"
   ]
  },
  {
   "cell_type": "code",
   "execution_count": 96,
   "id": "3ea8c58a-8e78-451b-98e8-c9a59332bdd7",
   "metadata": {},
   "outputs": [],
   "source": [
    "# join the orders and customers by customer_id\n",
    "# get the customer_id from the customers table and use this customer_id and filter out the orders\n",
    "\n",
    "customer_id = customers.filter(col(\"CompanyName\") == 'North/South').collect()[0][\"CustomerID\"]"
   ]
  },
  {
   "cell_type": "code",
   "execution_count": 97,
   "id": "d8a1583a-7956-49e4-b03c-a87c35e79fd8",
   "metadata": {},
   "outputs": [
    {
     "name": "stdout",
     "output_type": "stream",
     "text": [
      "+-------+----------+----------+------------+-----------+-------+-------+--------------------+--------------+--------------+----------+--------------+-----------+----------+---------+---------+--------+--------+------+\n",
      "|OrderID|CustomerID|EmployeeID|RequiredDate|ShippedDate|ShipVia|Freight|            ShipName|   ShipAddress|      ShipCity|ShipRegion|ShipPostalCode|ShipCountry| OrderDate|ProductID|UnitPrice|Quantity|Discount|_Sales|\n",
      "+-------+----------+----------+------------+-----------+-------+-------+--------------------+--------------+--------------+----------+--------------+-----------+----------+---------+---------+--------+--------+------+\n",
      "|  11070|     LEHMS|         2|  17-10-2024|       null|      1|  136.0| Lehmanns Marktstand|  Magazinweg 7|Frankfurt a.M.|      null|         60528|    Germany|19-09-2024|       31|     12.5|      20|     0.0| 250.0|\n",
      "|  11067|     DRACD|         1|  02-10-2024| 20-09-2024|      2|   7.98|Drachenblut Delik...|  Walserweg 21|        Aachen|      null|         52066|    Germany|18-09-2024|       41|     9.65|       9|     0.0| 86.85|\n",
      "|  11058|     BLAUS|         9|  11-10-2024|       null|      3|  31.14|Blauer See Delika...|Forsterstr. 57|      Mannheim|      null|         68306|    Germany|13-09-2024|       61|     28.5|       4|     0.0| 114.0|\n",
      "|  11058|     BLAUS|         9|  11-10-2024|       null|      3|  31.14|Blauer See Delika...|Forsterstr. 57|      Mannheim|      null|         68306|    Germany|13-09-2024|       60|     34.0|      21|     0.0| 714.0|\n",
      "|  11058|     BLAUS|         9|  11-10-2024|       null|      3|  31.14|Blauer See Delika...|Forsterstr. 57|      Mannheim|      null|         68306|    Germany|13-09-2024|       21|     10.0|       3|     0.0|  30.0|\n",
      "+-------+----------+----------+------------+-----------+-------+-------+--------------------+--------------+--------------+----------+--------------+-----------+----------+---------+---------+--------+--------+------+\n",
      "only showing top 5 rows\n",
      "\n"
     ]
    }
   ],
   "source": [
    "orders.show(5)"
   ]
  },
  {
   "cell_type": "code",
   "execution_count": 141,
   "id": "aa760a53-cb3e-4d6a-aadf-9add3394984b",
   "metadata": {},
   "outputs": [
    {
     "name": "stdout",
     "output_type": "stream",
     "text": [
      "+----------+----------+-----------+----------+\n",
      "|CustomerID| OrderDate|CurrentDate|DiffInDays|\n",
      "+----------+----------+-----------+----------+\n",
      "|     NORTS|2024-09-13| 2025-07-02|       292|\n",
      "+----------+----------+-----------+----------+\n",
      "only showing top 1 row\n",
      "\n"
     ]
    }
   ],
   "source": [
    "# filter out the orders made by the norts customer_id\n",
    "norts_order = orders.filter(col(\"CustomerID\") == customer_id)\n",
    "\n",
    "# sort the order date in desc order and get the latest order date\n",
    "latest_order = norts_order.sort(desc(col(\"OrderDate\"))).select(\"CustomerID\", to_date(col(\"OrderDate\"), \"dd-MM-yyyy\").alias(\"OrderDate\"))\n",
    "\n",
    "# add current date to the dataframe\n",
    "current_date_added = latest_order.withColumn(\"CurrentDate\", current_date())\n",
    "\n",
    "# find the differnce between last purchase date & current date (datediff)\n",
    "current_date_added = current_date_added.withColumn(\"DiffInDays\", datediff(col(\"CurrentDate\"), col(\"OrderDate\")))\n",
    "\n",
    "current_date_added.show(1)"
   ]
  },
  {
   "cell_type": "markdown",
   "id": "14e049e3-1bfc-495b-90c3-be6d57ede505",
   "metadata": {},
   "source": [
    "### 11. How many customers have ordered only once?"
   ]
  },
  {
   "cell_type": "code",
   "execution_count": 155,
   "id": "614e87b5-6474-4447-a2bb-2f24d40794ee",
   "metadata": {},
   "outputs": [
    {
     "name": "stdout",
     "output_type": "stream",
     "text": [
      "+----------+----------+\n",
      "|CustomerID|OrderCount|\n",
      "+----------+----------+\n",
      "|     CENTC|         1|\n",
      "+----------+----------+\n",
      "\n"
     ]
    }
   ],
   "source": [
    "orders.select(\"OrderID\", \"CustomerID\", \"ProductID\")\n",
    "\n",
    "# getting the data from product level to customers level\n",
    "product_level = orders.groupBy(\"OrderID\", \"CustomerID\").agg(count(col(\"ProductID\")).alias(\"ProductCount\"))\n",
    "\n",
    "# how many times every customer has ordered \n",
    "order_count = product_level.groupBy(\"CustomerID\").agg(count(\"OrderID\").alias(\"OrderCount\"))\n",
    "\n",
    "# filter customers only where one order was placed\n",
    "customer_ordered_once = order_count.where(\"OrderCount = 1\")\n",
    "\n",
    "customer_ordered_once.show()"
   ]
  },
  {
   "cell_type": "markdown",
   "id": "d8c93b98-4902-4e77-9187-f2c9b5b39780",
   "metadata": {},
   "source": [
    "### 12. How many new customers in 2023?"
   ]
  },
  {
   "cell_type": "code",
   "execution_count": 211,
   "id": "fb2e3280-bde7-4160-b64a-065cd3a3a417",
   "metadata": {},
   "outputs": [
    {
     "data": {
      "text/plain": [
       "57"
      ]
     },
     "execution_count": 211,
     "metadata": {},
     "output_type": "execute_result"
    }
   ],
   "source": [
    "# select the relevant columns and get the distinct orders\n",
    "order_details = orders.select(\"OrderID\", \"CustomerID\", to_date(col(\"OrderDate\"), \"dd-MM-yyyy\").alias(\"OrderDate\")).distinct()\n",
    "\n",
    "# create the window frame and rank the orders by order date in ascending order\n",
    "window = Window.partitionBy(\"CustomerID\").orderBy(\"OrderDate\")\n",
    "order_ranks = order_details.withColumn(\"OrderRank\", rank().over(window))\n",
    "\n",
    "order_ranks.filter((col(\"OrderRank\") == 1) & (year(col(\"OrderDate\")) == 2023)).count()"
   ]
  },
  {
   "cell_type": "markdown",
   "id": "49107a4b-3b0a-4de0-8f30-ecfe4b356595",
   "metadata": {},
   "source": [
    "### 13. How many Lost Customers in 2023?"
   ]
  },
  {
   "cell_type": "code",
   "execution_count": 177,
   "id": "c8727c06-1a7c-4a0e-829a-a6c7fb8ca188",
   "metadata": {},
   "outputs": [
    {
     "name": "stdout",
     "output_type": "stream",
     "text": [
      "+-------+----------+----------+------------+-----------+-------+-------+--------------------+--------------+--------------+----------+--------------+-----------+----------+---------+---------+--------+--------+------+\n",
      "|OrderID|CustomerID|EmployeeID|RequiredDate|ShippedDate|ShipVia|Freight|            ShipName|   ShipAddress|      ShipCity|ShipRegion|ShipPostalCode|ShipCountry| OrderDate|ProductID|UnitPrice|Quantity|Discount|_Sales|\n",
      "+-------+----------+----------+------------+-----------+-------+-------+--------------------+--------------+--------------+----------+--------------+-----------+----------+---------+---------+--------+--------+------+\n",
      "|  11070|     LEHMS|         2|  17-10-2024|       null|      1|  136.0| Lehmanns Marktstand|  Magazinweg 7|Frankfurt a.M.|      null|         60528|    Germany|19-09-2024|       31|     12.5|      20|     0.0| 250.0|\n",
      "|  11067|     DRACD|         1|  02-10-2024| 20-09-2024|      2|   7.98|Drachenblut Delik...|  Walserweg 21|        Aachen|      null|         52066|    Germany|18-09-2024|       41|     9.65|       9|     0.0| 86.85|\n",
      "|  11058|     BLAUS|         9|  11-10-2024|       null|      3|  31.14|Blauer See Delika...|Forsterstr. 57|      Mannheim|      null|         68306|    Germany|13-09-2024|       61|     28.5|       4|     0.0| 114.0|\n",
      "|  11058|     BLAUS|         9|  11-10-2024|       null|      3|  31.14|Blauer See Delika...|Forsterstr. 57|      Mannheim|      null|         68306|    Germany|13-09-2024|       60|     34.0|      21|     0.0| 714.0|\n",
      "|  11058|     BLAUS|         9|  11-10-2024|       null|      3|  31.14|Blauer See Delika...|Forsterstr. 57|      Mannheim|      null|         68306|    Germany|13-09-2024|       21|     10.0|       3|     0.0|  30.0|\n",
      "+-------+----------+----------+------------+-----------+-------+-------+--------------------+--------------+--------------+----------+--------------+-----------+----------+---------+---------+--------+--------+------+\n",
      "only showing top 5 rows\n",
      "\n"
     ]
    }
   ],
   "source": [
    "orders.show(5)"
   ]
  },
  {
   "cell_type": "code",
   "execution_count": 210,
   "id": "40985873-7294-40c8-ab86-bf347e296ee5",
   "metadata": {},
   "outputs": [
    {
     "data": {
      "text/plain": [
       "1"
      ]
     },
     "execution_count": 210,
     "metadata": {},
     "output_type": "execute_result"
    }
   ],
   "source": [
    "# select the relevant columns and get the distinct orders\n",
    "order_details = orders.select(\"OrderID\", \"CustomerID\", to_date(col(\"OrderDate\"), \"dd-MM-yyyy\").alias(\"OrderDate\")).distinct()\n",
    "\n",
    "# create window frame and rank orders in descending order by order date\n",
    "window = Window.partitionBy(\"CustomerID\").orderBy(desc(col(\"OrderDate\")))\n",
    "order_ranks = order_details.withColumn(\"OrderRank\", rank().over(window))\n",
    "\n",
    "# Filter orders where order rank is 1 and year is 2023\n",
    "order_ranks.filter((col(\"OrderRank\") == 1) & (year(col(\"OrderDate\")) == 2023)).count()"
   ]
  },
  {
   "cell_type": "markdown",
   "id": "088765e6-cb7a-4083-a701-cb60a9d223cf",
   "metadata": {},
   "source": [
    "### 14. How many customers have never purchased Queso Cabrales?"
   ]
  },
  {
   "cell_type": "code",
   "execution_count": 209,
   "id": "26c92849-c280-4e8e-adb4-848995cf5e86",
   "metadata": {},
   "outputs": [
    {
     "data": {
      "text/plain": [
       "59"
      ]
     },
     "execution_count": 209,
     "metadata": {},
     "output_type": "execute_result"
    }
   ],
   "source": [
    "# join orders and orducts table using inner join\n",
    "# filter rows where prodname is Queso Cabrales\n",
    "# select only the distinct customerID\n",
    "\n",
    "customers_purchased_queso = orders.join(products, orders.ProductID == products.ProductID, how='inner')\\\n",
    "    .filter(col(\"ProductName\") == \"Queso Cabrales\")\\\n",
    "    .select(\"CustomerID\").distinct()\n",
    "\n",
    "#perform a left anti join to get customers who did not purchase queso cabrales\n",
    "customers.join(customers_purchased_queso, on=\"CustomerID\", how=\"left_anti\").select(\"CustomerID\").distinct().count()"
   ]
  },
  {
   "cell_type": "markdown",
   "id": "3b2e7dfb-45b3-40cf-96f9-bfd4c8a6379d",
   "metadata": {},
   "source": [
    "### 15. How many customers have purchased only Queso Cabrales (per OrderID)?"
   ]
  },
  {
   "cell_type": "code",
   "execution_count": 230,
   "id": "aaa69332-679e-4992-b7af-622affa86417",
   "metadata": {},
   "outputs": [
    {
     "data": {
      "text/plain": [
       "28"
      ]
     },
     "execution_count": 230,
     "metadata": {},
     "output_type": "execute_result"
    }
   ],
   "source": [
    "# customers who ordered only one product\n",
    "customers_bougth_one_product = orders.groupBy(\"OrderID\", \"CustomerID\").agg(count(\"ProductID\").alias(\"ProductCount\"))\\\n",
    "    .filter((col(\"ProductCount\")) == 1)\\\n",
    "    .select(\"CustomerID\").distinct() \n",
    "\n",
    "# the product should be queso cabrales\n",
    "customers_bought_queso = orders.join(products, on=\"ProductID\", how=\"inner\")\\\n",
    "    .filter(col(\"ProductName\")==\"Queso Cabrales\")\\\n",
    "    .select(orders[\"CustomerID\"]).distinct()\n",
    "# customers have purchased only Queso Cabrales (per OrderID)\n",
    "customers_bougth_one_product.join(customers_bought_queso, on=\"CustomerID\", how=\"inner\").count()"
   ]
  },
  {
   "cell_type": "markdown",
   "id": "a6f81842-1867-470d-bd0c-1ebe9b168aed",
   "metadata": {},
   "source": [
    "### 16. How many products are out of stock?"
   ]
  },
  {
   "cell_type": "code",
   "execution_count": 233,
   "id": "373bb9c5-eb5d-453b-94d4-06d31076897a",
   "metadata": {},
   "outputs": [
    {
     "name": "stdout",
     "output_type": "stream",
     "text": [
      "+---------+--------------------+----------+----------+--------------------+---------+------------+------------+------------+------------+\n",
      "|ProductID|         ProductName|SupplierID|CategoryID|     QuantityPerUnit|UnitPrice|UnitsInStock|UnitsOnOrder|ReorderLevel|Discontinued|\n",
      "+---------+--------------------+----------+----------+--------------------+---------+------------+------------+------------+------------+\n",
      "|        5|Chef Anton's Gumb...|         2|         2|            36 boxes|    21.35|           0|           0|           0|        true|\n",
      "|       17|        Alice Mutton|         7|         6|      20 - 1 kg tins|     39.0|           0|           0|           0|        true|\n",
      "|       29|Thüringer Rostbra...|        12|         6|50 bags x 30 sausgs.|   123.79|           0|           0|           0|        true|\n",
      "|       31|   Gorgonzola Telino|        14|         4|     12 - 100 g pkgs|     12.5|           0|          70|          20|       false|\n",
      "|       53|       Perth Pasties|        24|         6|           48 pieces|     32.8|           0|           0|           0|        true|\n",
      "+---------+--------------------+----------+----------+--------------------+---------+------------+------------+------------+------------+\n",
      "\n"
     ]
    }
   ],
   "source": [
    "products.filter(col(\"UnitsInStock\")==0).show()"
   ]
  },
  {
   "cell_type": "markdown",
   "id": "cda3872b-86fd-49f5-9425-95af5734cc08",
   "metadata": {},
   "source": [
    "### 17. How many products need to be restocked? (based on restock levels)"
   ]
  },
  {
   "cell_type": "code",
   "execution_count": 236,
   "id": "634464fc-b7a2-4e47-ba61-2125af7c787e",
   "metadata": {},
   "outputs": [
    {
     "data": {
      "text/plain": [
       "22"
      ]
     },
     "execution_count": 236,
     "metadata": {},
     "output_type": "execute_result"
    }
   ],
   "source": [
    "products.filter(col(\"UnitsInStock\") <= col(\"ReorderLevel\")).count()"
   ]
  },
  {
   "cell_type": "markdown",
   "id": "ad84dd18-7465-4416-8524-50620f82eb0a",
   "metadata": {},
   "source": [
    "### 18. How many products on order we need to restock?"
   ]
  },
  {
   "cell_type": "code",
   "execution_count": 238,
   "id": "2424de4b-5fb6-4379-9ca7-3ff8e8668ca5",
   "metadata": {},
   "outputs": [
    {
     "data": {
      "text/plain": [
       "14"
      ]
     },
     "execution_count": 238,
     "metadata": {},
     "output_type": "execute_result"
    }
   ],
   "source": [
    "products.filter((col(\"UnitsInStock\") < col(\"UnitsOnOrder\")) & (col(\"UnitsOnOrder\") > 0)).count()"
   ]
  },
  {
   "cell_type": "markdown",
   "id": "d55ff8d5-f2c3-4fc0-a780-49663cbe8f37",
   "metadata": {},
   "source": [
    "### 19. What is the stocked value of the discontinued products?"
   ]
  },
  {
   "cell_type": "code",
   "execution_count": 242,
   "id": "73eb0b3c-ab2d-4851-9be7-fef07b88fe82",
   "metadata": {},
   "outputs": [
    {
     "name": "stdout",
     "output_type": "stream",
     "text": [
      "+-----------------+\n",
      "|TotalStockedValue|\n",
      "+-----------------+\n",
      "|           4452.6|\n",
      "+-----------------+\n",
      "\n"
     ]
    }
   ],
   "source": [
    "products.filter(col(\"Discontinued\")==True)\\\n",
    "    .withColumn(\"StockedValue\", col(\"UnitPrice\") * col(\"UnitsInStock\"))\\\n",
    "    .agg(sum(\"StockedValue\").alias(\"TotalStockedValue\")).show()"
   ]
  },
  {
   "cell_type": "markdown",
   "id": "de23113d-7b99-4f64-9135-816dddd834a1",
   "metadata": {},
   "source": [
    "## 20. Which vendor has the highest stock value?"
   ]
  },
  {
   "cell_type": "code",
   "execution_count": 261,
   "id": "4de7291e-ae16-4d7c-8d9a-d30f825ed29f",
   "metadata": {},
   "outputs": [
    {
     "name": "stdout",
     "output_type": "stream",
     "text": [
      "+----------+------------------+--------------------+--------------+-------------+--------------------+-----+------+----------+-------+---------------+---------------+--------+\n",
      "|SupplierID|SupplierStockValue|         CompanyName|   ContactName| ContactTitle|             Address| City|Region|PostalCode|Country|          Phone|            Fax|HomePage|\n",
      "+----------+------------------+--------------------+--------------+-------------+--------------------+-----+------+----------+-------+---------------+---------------+--------+\n",
      "|        18|            5721.5|Aux joyeux ecclés...|Guylène Nodier|Sales Manager|203, Rue des Fran...|Paris|  null|     75004| France|(1) 03.83.00.68|(1) 03.83.00.62|    null|\n",
      "+----------+------------------+--------------------+--------------+-------------+--------------------+-----+------+----------+-------+---------------+---------------+--------+\n",
      "only showing top 1 row\n",
      "\n"
     ]
    }
   ],
   "source": [
    "# select relevant columns\n",
    "product_level = products.select(\"ProductID\", \"ProductName\", \"SupplierID\", \"UnitPrice\", \"UnitsInStock\")\n",
    "\n",
    "# get the stock value at the product level\n",
    "product_stock_value = product_level.withColumn(\"StockValue\", col(\"UnitPrice\") * col(\"UnitsInStock\"))\n",
    "\n",
    "# transform the product_level data to supplier level data\n",
    "highest_supplier = product_stock_value.groupBy(\"SupplierID\").agg(sum(\"StockValue\").alias(\"SupplierStockValue\"))\\\n",
    "    .sort(desc(\"SupplierStockValue\"))\n",
    "\n",
    "highest_supplier.join(suppliers, on=\"SupplierID\", how=\"left\").show(1)"
   ]
  },
  {
   "cell_type": "markdown",
   "id": "369c7d32-5240-457a-b2bc-687c6555b661",
   "metadata": {},
   "source": [
    "### 21. How many employees are female?"
   ]
  },
  {
   "cell_type": "code",
   "execution_count": 264,
   "id": "26f43fc8-6c50-43f1-ac0a-bf1bd553c0bb",
   "metadata": {},
   "outputs": [
    {
     "data": {
      "text/plain": [
       "4"
      ]
     },
     "execution_count": 264,
     "metadata": {},
     "output_type": "execute_result"
    }
   ],
   "source": [
    "employees.filter(col(\"Gender\")==\"Female\").count()"
   ]
  },
  {
   "cell_type": "markdown",
   "id": "369db7d1-0217-43d3-8a70-a3bd8ef1bedc",
   "metadata": {},
   "source": [
    "### 22. How many employees are 60 years old or over?"
   ]
  },
  {
   "cell_type": "code",
   "execution_count": 283,
   "id": "fa932df2-55a7-4877-ab19-8c61f8e84205",
   "metadata": {},
   "outputs": [
    {
     "data": {
      "text/plain": [
       "8"
      ]
     },
     "execution_count": 283,
     "metadata": {},
     "output_type": "execute_result"
    }
   ],
   "source": [
    "\n",
    "employees.select(\"EmployeeID\", to_date(col(\"BirthDate\"), \"dd-MM-yyyy\").alias(\"BirthDate\"))\\\n",
    "    .withColumn(\"CurrentDate\", current_date())\\\n",
    "    .withColumn(\"Age\", (round((datediff(col(\"CurrentDate\"), col(\"BirthDate\"))),2) / 365).cast(\"int\"))\\\n",
    "    .where(col(\"Age\").isNotNull())\\\n",
    "    .filter(col(\"Age\") >= 60).count()\n"
   ]
  },
  {
   "cell_type": "markdown",
   "id": "4859959d-d327-4c4b-8544-18ef2a5d19c8",
   "metadata": {},
   "source": [
    "### 23. Which employee had the highest sales in 2022?"
   ]
  },
  {
   "cell_type": "code",
   "execution_count": 303,
   "id": "dcb17987-3e97-407d-8f05-dbf4b0187b6e",
   "metadata": {},
   "outputs": [
    {
     "name": "stdout",
     "output_type": "stream",
     "text": [
      "+----------+-----------+--------+---------+--------------------+---------------+----------+----------+--------------------+-------+------+----------+-------+--------------+---------+--------------------+---------+--------------------+----------------+------+\n",
      "|EmployeeID|SalesAmount|LastName|FirstName|               Title|TitleOfCourtesy| BirthDate|  HireDate|             Address|   City|Region|PostalCode|Country|     HomePhone|Extension|               Notes|ReportsTo|           PhotoPath|       Full Name|Gender|\n",
      "+----------+-----------+--------+---------+--------------------+---------------+----------+----------+--------------------+-------+------+----------+-------+--------------+---------+--------------------+---------+--------------------+----------------+------+\n",
      "|         4|    13230.8| Peacock| Margaret|Sales Representative|           Mrs.|19-09-1937|03-05-1993|4110 Old Redmond Rd.|Redmond|    WA|     98052|    USA|(206) 555-8122|     5176|Margaret holds a ...|        2|http://accweb/emm...|Margaret Peacock|Female|\n",
      "+----------+-----------+--------+---------+--------------------+---------------+----------+----------+--------------------+-------+------+----------+-------+--------------+---------+--------------------+---------+--------------------+----------------+------+\n",
      "only showing top 1 row\n",
      "\n"
     ]
    }
   ],
   "source": [
    "# filter the records where the order was placed in 2022\n",
    "orders_2022 = orders.filter(year(to_date(col(\"OrderDate\"), \"dd-MM-yyyy\")) == 2022)\n",
    "\n",
    "# transform the order level data to employee level\n",
    "highest_employee = orders_2022.groupBy(\"EmployeeID\").agg(round(sum(\"_sales\"),2).alias(\"SalesAmount\"))\\\n",
    "    .sort(desc(\"SalesAmount\"))\n",
    "\n",
    "highest_employee.join(employees, on=\"EmployeeID\", how='left').show(1)"
   ]
  },
  {
   "cell_type": "markdown",
   "id": "9fcb9c48-edb4-4c2a-b20b-4a34919c82d6",
   "metadata": {},
   "source": [
    "### 24. How many employees sold over $100k in 2023?"
   ]
  },
  {
   "cell_type": "code",
   "execution_count": 309,
   "id": "5024ba72-0fbb-4cc9-82dc-e8b50d1809e6",
   "metadata": {},
   "outputs": [
    {
     "name": "stdout",
     "output_type": "stream",
     "text": [
      "+----------+-----------+\n",
      "|EmployeeID|SalesAmount|\n",
      "+----------+-----------+\n",
      "|         4|   127890.0|\n",
      "+----------+-----------+\n",
      "\n"
     ]
    }
   ],
   "source": [
    "# filter the records where the order was placed in 2023\n",
    "order_2023 = orders.filter(year(to_date(col(\"OrderDate\"), \"dd-MM-yyyy\")) == 2023)\n",
    "\n",
    "order_2023.groupBy(\"EmployeeID\").agg(round(sum(\"_sales\"),0).alias(\"SalesAmount\")).sort(desc(\"SalesAmount\"))\\\n",
    "    .filter(col(\"SalesAmount\") > 100000).show()"
   ]
  },
  {
   "cell_type": "markdown",
   "id": "836e4525-8c13-4216-872f-3a16edf7908e",
   "metadata": {},
   "source": [
    "### 25. How many employees got hired in 1994?"
   ]
  },
  {
   "cell_type": "code",
   "execution_count": 311,
   "id": "fa5762cc-0604-41e6-b970-743e30e8a0e1",
   "metadata": {},
   "outputs": [
    {
     "data": {
      "text/plain": [
       "3"
      ]
     },
     "execution_count": 311,
     "metadata": {},
     "output_type": "execute_result"
    }
   ],
   "source": [
    "employees.filter(year(to_date(col(\"HireDate\"), \"dd-MM-yyyy\")) == 1994).count()"
   ]
  }
 ],
 "metadata": {
  "kernelspec": {
   "display_name": "Python 3 (ipykernel)",
   "language": "python",
   "name": "python3"
  },
  "language_info": {
   "codemirror_mode": {
    "name": "ipython",
    "version": 3
   },
   "file_extension": ".py",
   "mimetype": "text/x-python",
   "name": "python",
   "nbconvert_exporter": "python",
   "pygments_lexer": "ipython3",
   "version": "3.10.18"
  }
 },
 "nbformat": 4,
 "nbformat_minor": 5
}
